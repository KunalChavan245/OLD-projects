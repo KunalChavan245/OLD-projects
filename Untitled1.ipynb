{
 "cells": [
  {
   "cell_type": "code",
   "execution_count": 1,
   "id": "f6db32ec",
   "metadata": {},
   "outputs": [],
   "source": [
    "## SyntaxError"
   ]
  },
  {
   "cell_type": "code",
   "execution_count": 4,
   "id": "e5de23e6",
   "metadata": {},
   "outputs": [],
   "source": [
    "try:\n",
    "    x = 5 / 2\n",
    "except SyntaxError as e:\n",
    "    print(f\"SyntaxError: {e}\")\n"
   ]
  },
  {
   "cell_type": "code",
   "execution_count": 1,
   "id": "cbd9e428",
   "metadata": {},
   "outputs": [],
   "source": [
    "## TypeError"
   ]
  },
  {
   "cell_type": "code",
   "execution_count": 2,
   "id": "3bbbd5be",
   "metadata": {},
   "outputs": [
    {
     "name": "stdout",
     "output_type": "stream",
     "text": [
      "TypeError: can only concatenate str (not \"int\") to str\n"
     ]
    }
   ],
   "source": [
    "try:\n",
    "    x = \"Hello\" + 5\n",
    "except TypeError as e:\n",
    "    print(f\"TypeError: {e}\")\n"
   ]
  },
  {
   "cell_type": "code",
   "execution_count": 8,
   "id": "0710aaab",
   "metadata": {},
   "outputs": [
    {
     "name": "stdout",
     "output_type": "stream",
     "text": [
      "ValueError: could not convert string to float: 'abcd'\n"
     ]
    }
   ],
   "source": [
    "### Value Error\n",
    "\n",
    "try:\n",
    "    x = float(\"abcd\")\n",
    "except ValueError as e:\n",
    "    print(f\"ValueError: {e}\")\n"
   ]
  },
  {
   "cell_type": "code",
   "execution_count": 9,
   "id": "54151a47",
   "metadata": {},
   "outputs": [
    {
     "name": "stdout",
     "output_type": "stream",
     "text": [
      "FileNotFoundError: [Errno 2] No such file or directory: 'nonexistent_file.txt'\n"
     ]
    }
   ],
   "source": [
    "## File not found error\n",
    "\n",
    "try:\n",
    "    with open(\"nonexistent_file.txt\", \"r\") as file:\n",
    "        content = file.read()\n",
    "except FileNotFoundError as e:\n",
    "    print(f\"FileNotFoundError: {e}\")\n"
   ]
  },
  {
   "cell_type": "code",
   "execution_count": 10,
   "id": "254859fd",
   "metadata": {},
   "outputs": [
    {
     "name": "stdout",
     "output_type": "stream",
     "text": [
      "Options:\n",
      "Enter 'add' for addition\n",
      "Enter 'subtract' for subtraction\n",
      "Enter 'multiply' for multiplication\n",
      "Enter 'divide' for division\n",
      "Enter 'quit' to end the program\n",
      ": add\n",
      "Enter first number: 5\n",
      "Enter second number: abc\n",
      "An error occurred: could not convert string to float: 'abc'\n",
      "Options:\n",
      "Enter 'add' for addition\n",
      "Enter 'subtract' for subtraction\n",
      "Enter 'multiply' for multiplication\n",
      "Enter 'divide' for division\n",
      "Enter 'quit' to end the program\n",
      ": quit\n",
      "Program ended.\n"
     ]
    }
   ],
   "source": [
    "## exception handling in calculator program\n",
    "\n",
    "def multiply(x, y):\n",
    "    return x * y\n",
    "\n",
    "def add(x, y):\n",
    "    return x + y\n",
    "\n",
    "def subtract(x, y):\n",
    "    return x - y\n",
    "\n",
    "def divide(x, y):\n",
    "    try:\n",
    "        result = x / y\n",
    "        return result\n",
    "    except ZeroDivisionError as e:\n",
    "        return f\"Error: Division by zero ({e})\"\n",
    "\n",
    "while True:\n",
    "    try:\n",
    "        print(\"Options:\")\n",
    "        print(\"Enter 'add' for addition\")\n",
    "        print(\"Enter 'subtract' for subtraction\")\n",
    "        print(\"Enter 'multiply' for multiplication\")\n",
    "        print(\"Enter 'divide' for division\")\n",
    "        print(\"Enter 'quit' to end the program\")\n",
    "\n",
    "        user_input = input(\": \")\n",
    "\n",
    "        if user_input == \"quit\":\n",
    "            break\n",
    "        elif user_input in (\"add\", \"subtract\", \"multiply\", \"divide\"):\n",
    "            num1 = float(input(\"Enter first number: \"))\n",
    "            num2 = float(input(\"Enter second number: \"))\n",
    "\n",
    "            if user_input == \"add\":\n",
    "                print(\"Result:\", add(num1, num2))\n",
    "            elif user_input == \"subtract\":\n",
    "                print(\"Result:\", subtract(num1, num2))\n",
    "            elif user_input == \"multiply\":\n",
    "                print(\"Result:\", multiply(num1, num2))\n",
    "            elif user_input == \"divide\":\n",
    "                print(\"Result:\", divide(num1, num2))\n",
    "        else:\n",
    "            print(\"Invalid input. Please enter a valid option.\")\n",
    "    except Exception as e:\n",
    "        print(f\"An error occurred: {e}\")\n",
    "\n",
    "print(\"Program ended.\")\n"
   ]
  }
 ],
 "metadata": {
  "kernelspec": {
   "display_name": "Python 3 (ipykernel)",
   "language": "python",
   "name": "python3"
  },
  "language_info": {
   "codemirror_mode": {
    "name": "ipython",
    "version": 3
   },
   "file_extension": ".py",
   "mimetype": "text/x-python",
   "name": "python",
   "nbconvert_exporter": "python",
   "pygments_lexer": "ipython3",
   "version": "3.10.9"
  }
 },
 "nbformat": 4,
 "nbformat_minor": 5
}
