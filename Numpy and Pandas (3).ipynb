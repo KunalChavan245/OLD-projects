{
 "cells": [
  {
   "cell_type": "code",
   "execution_count": 1,
   "id": "42966dda",
   "metadata": {},
   "outputs": [],
   "source": [
    "import numpy as np\n",
    "import pandas as pd"
   ]
  },
  {
   "cell_type": "code",
   "execution_count": 98,
   "id": "5264174b",
   "metadata": {},
   "outputs": [],
   "source": [
    "## Numpy ##"
   ]
  },
  {
   "cell_type": "code",
   "execution_count": 2,
   "id": "85cf4147",
   "metadata": {},
   "outputs": [
    {
     "data": {
      "text/plain": [
       "array([ 1,  2,  3, 45,  6])"
      ]
     },
     "execution_count": 2,
     "metadata": {},
     "output_type": "execute_result"
    }
   ],
   "source": [
    "np.array([1,2,3,45,6])"
   ]
  },
  {
   "cell_type": "code",
   "execution_count": 3,
   "id": "70b708a2",
   "metadata": {},
   "outputs": [
    {
     "data": {
      "text/plain": [
       "array([[1., 1., 1., 1., 1.],\n",
       "       [1., 1., 1., 1., 1.],\n",
       "       [1., 1., 1., 1., 1.]])"
      ]
     },
     "execution_count": 3,
     "metadata": {},
     "output_type": "execute_result"
    }
   ],
   "source": [
    "np.ones((3,5),dtype = float)"
   ]
  },
  {
   "cell_type": "code",
   "execution_count": 4,
   "id": "1f487a77",
   "metadata": {},
   "outputs": [
    {
     "data": {
      "text/plain": [
       "array([[3.14, 3.14, 3.14, 3.14, 3.14],\n",
       "       [3.14, 3.14, 3.14, 3.14, 3.14],\n",
       "       [3.14, 3.14, 3.14, 3.14, 3.14]])"
      ]
     },
     "execution_count": 4,
     "metadata": {},
     "output_type": "execute_result"
    }
   ],
   "source": [
    "np.full((3,5),3.14)"
   ]
  },
  {
   "cell_type": "code",
   "execution_count": 7,
   "id": "e81eabb7",
   "metadata": {},
   "outputs": [
    {
     "data": {
      "text/plain": [
       "array([ 0,  2,  4,  6,  8, 10, 12, 14, 16, 18])"
      ]
     },
     "execution_count": 7,
     "metadata": {},
     "output_type": "execute_result"
    }
   ],
   "source": [
    "x=np.arange(0,20,2)\n",
    "x"
   ]
  },
  {
   "cell_type": "code",
   "execution_count": 10,
   "id": "d26775ab",
   "metadata": {},
   "outputs": [
    {
     "data": {
      "text/plain": [
       "array([0.  , 0.25, 0.5 , 0.75, 1.  ])"
      ]
     },
     "execution_count": 10,
     "metadata": {},
     "output_type": "execute_result"
    }
   ],
   "source": [
    "np.linspace(0,1,5)"
   ]
  },
  {
   "cell_type": "code",
   "execution_count": 16,
   "id": "3ec6c48e",
   "metadata": {},
   "outputs": [
    {
     "data": {
      "text/plain": [
       "array([[0.55860489, 0.7225977 , 0.59670642],\n",
       "       [0.04128806, 0.30846855, 0.96768949],\n",
       "       [0.34001334, 0.342865  , 0.18329894]])"
      ]
     },
     "execution_count": 16,
     "metadata": {},
     "output_type": "execute_result"
    }
   ],
   "source": [
    "np.random.random((3,3))"
   ]
  },
  {
   "cell_type": "code",
   "execution_count": 18,
   "id": "710911b2",
   "metadata": {},
   "outputs": [
    {
     "data": {
      "text/plain": [
       "array([[ -3.8586568 ,  -5.36422319,  -6.65219509],\n",
       "       [-13.14085765,  -5.55240271,  -4.09639092],\n",
       "       [-20.31769837, -12.10126787,   3.97357045]])"
      ]
     },
     "execution_count": 18,
     "metadata": {},
     "output_type": "execute_result"
    }
   ],
   "source": [
    "np.random.normal(0,10,(3,3))"
   ]
  },
  {
   "cell_type": "code",
   "execution_count": 19,
   "id": "b9382089",
   "metadata": {},
   "outputs": [
    {
     "data": {
      "text/plain": [
       "array([[1., 0., 0.],\n",
       "       [0., 1., 0.],\n",
       "       [0., 0., 1.]])"
      ]
     },
     "execution_count": 19,
     "metadata": {},
     "output_type": "execute_result"
    }
   ],
   "source": [
    "np.eye(3)"
   ]
  },
  {
   "cell_type": "code",
   "execution_count": 21,
   "id": "aad211c5",
   "metadata": {},
   "outputs": [
    {
     "data": {
      "text/plain": [
       "array([9, 5, 3, 4, 0, 8])"
      ]
     },
     "execution_count": 21,
     "metadata": {},
     "output_type": "execute_result"
    }
   ],
   "source": [
    "x1=np.random.randint(10,size=6)\n",
    "x1"
   ]
  },
  {
   "cell_type": "code",
   "execution_count": 23,
   "id": "6097f708",
   "metadata": {},
   "outputs": [
    {
     "data": {
      "text/plain": [
       "array([[8, 4, 3, 3],\n",
       "       [6, 9, 7, 7],\n",
       "       [4, 0, 4, 7]])"
      ]
     },
     "execution_count": 23,
     "metadata": {},
     "output_type": "execute_result"
    }
   ],
   "source": [
    "x2=np.random.randint(10,size=(3,4))\n",
    "x2"
   ]
  },
  {
   "cell_type": "code",
   "execution_count": 24,
   "id": "15ca4fb6",
   "metadata": {},
   "outputs": [
    {
     "data": {
      "text/plain": [
       "array([[[4, 6, 8, 8, 7],\n",
       "        [9, 6, 2, 3, 0],\n",
       "        [0, 5, 6, 4, 6],\n",
       "        [0, 8, 5, 0, 0]],\n",
       "\n",
       "       [[1, 4, 7, 2, 2],\n",
       "        [5, 9, 7, 0, 1],\n",
       "        [9, 6, 7, 4, 1],\n",
       "        [1, 2, 3, 3, 0]],\n",
       "\n",
       "       [[7, 0, 5, 8, 7],\n",
       "        [6, 6, 0, 7, 6],\n",
       "        [4, 6, 5, 5, 3],\n",
       "        [5, 2, 6, 5, 3]]])"
      ]
     },
     "execution_count": 24,
     "metadata": {},
     "output_type": "execute_result"
    }
   ],
   "source": [
    "x3=np.random.randint(10,size=(3,4,5))\n",
    "x3"
   ]
  },
  {
   "cell_type": "code",
   "execution_count": 25,
   "id": "6c73e719",
   "metadata": {},
   "outputs": [
    {
     "name": "stdout",
     "output_type": "stream",
     "text": [
      "X3 ndim 3\n",
      "X2 size 12\n",
      "X1 shape (6,)\n"
     ]
    }
   ],
   "source": [
    "print(\"X3 ndim\",x3.ndim)\n",
    "print(\"X2 size\",x2.size)\n",
    "print(\"X1 shape\",x1.shape)"
   ]
  },
  {
   "cell_type": "code",
   "execution_count": 28,
   "id": "0085db62",
   "metadata": {},
   "outputs": [
    {
     "data": {
      "text/plain": [
       "9.0"
      ]
     },
     "execution_count": 28,
     "metadata": {},
     "output_type": "execute_result"
    }
   ],
   "source": [
    "x1=np.array([0.,5,3,7,9,9.6])\n",
    "x1[4]"
   ]
  },
  {
   "cell_type": "code",
   "execution_count": 33,
   "id": "bc40a01e",
   "metadata": {},
   "outputs": [
    {
     "data": {
      "text/plain": [
       "8"
      ]
     },
     "execution_count": 33,
     "metadata": {},
     "output_type": "execute_result"
    }
   ],
   "source": [
    "x1[-1]"
   ]
  },
  {
   "cell_type": "code",
   "execution_count": 34,
   "id": "653ceffe",
   "metadata": {},
   "outputs": [
    {
     "data": {
      "text/plain": [
       "array([ 0,  2,  4,  6,  8, 10, 12, 14, 16, 18])"
      ]
     },
     "execution_count": 34,
     "metadata": {},
     "output_type": "execute_result"
    }
   ],
   "source": [
    "x1=np.arange(0,20,2)\n",
    "x1"
   ]
  },
  {
   "cell_type": "code",
   "execution_count": 35,
   "id": "0156c3bb",
   "metadata": {},
   "outputs": [
    {
     "name": "stdout",
     "output_type": "stream",
     "text": [
      "[0 2 4 6 8]\n",
      "[ 0  4  8 12 16]\n",
      "[10 12 14 16 18]\n"
     ]
    }
   ],
   "source": [
    "print(x1[:5])\n",
    "print(x1[::2])\n",
    "print(x1[5:])\n"
   ]
  },
  {
   "cell_type": "code",
   "execution_count": 41,
   "id": "e364754b",
   "metadata": {},
   "outputs": [
    {
     "data": {
      "text/plain": [
       "array([[ 9.87893981,  9.09270799,  9.81895483],\n",
       "       [ 8.69924156, 10.43813448,  9.52730069],\n",
       "       [ 9.46763853,  8.93258581, 11.84548822]])"
      ]
     },
     "execution_count": 41,
     "metadata": {},
     "output_type": "execute_result"
    }
   ],
   "source": [
    "x2=np.random.normal(10,size=(3,3))\n",
    "x2"
   ]
  },
  {
   "cell_type": "code",
   "execution_count": 42,
   "id": "59598804",
   "metadata": {},
   "outputs": [
    {
     "data": {
      "text/plain": [
       "array([[ 9.87893981,  9.09270799,  9.81895483],\n",
       "       [ 8.69924156, 10.43813448,  9.52730069]])"
      ]
     },
     "execution_count": 42,
     "metadata": {},
     "output_type": "execute_result"
    }
   ],
   "source": [
    "x2[:2,:3]"
   ]
  },
  {
   "cell_type": "code",
   "execution_count": 44,
   "id": "109d7e80",
   "metadata": {},
   "outputs": [
    {
     "data": {
      "text/plain": [
       "array([[ 9.87893981,  9.09270799,  9.81895483],\n",
       "       [ 8.69924156, 10.43813448,  9.52730069],\n",
       "       [ 9.46763853,  8.93258581, 11.84548822]])"
      ]
     },
     "execution_count": 44,
     "metadata": {},
     "output_type": "execute_result"
    }
   ],
   "source": [
    "x2_copy=x2.copy()\n",
    "x2_copy"
   ]
  },
  {
   "cell_type": "code",
   "execution_count": 49,
   "id": "1f8cedce",
   "metadata": {},
   "outputs": [
    {
     "name": "stdout",
     "output_type": "stream",
     "text": [
      "[2 0 1 2] [1 9 2 9 2] [4 5 5 3 4 7]\n"
     ]
    }
   ],
   "source": [
    "x1=np.random.randint(5,size =4)\n",
    "x2=np.random.randint(10,size = 5)\n",
    "x3=np.random.randint(8,size=6)\n",
    "print(x1,x2,x3)"
   ]
  },
  {
   "cell_type": "code",
   "execution_count": 52,
   "id": "9b4232c6",
   "metadata": {},
   "outputs": [
    {
     "data": {
      "text/plain": [
       "array([2, 0, 1, 2, 1, 9, 2, 9, 2, 4, 5, 5, 3, 4, 7])"
      ]
     },
     "execution_count": 52,
     "metadata": {},
     "output_type": "execute_result"
    }
   ],
   "source": [
    "z = np.concatenate([x1,x2,x3])\n",
    "z"
   ]
  },
  {
   "cell_type": "code",
   "execution_count": 55,
   "id": "52f93ea2",
   "metadata": {},
   "outputs": [
    {
     "data": {
      "text/plain": [
       "[array([2, 0, 1, 2]), array([1]), array([9, 2, 9, 2, 4, 5, 5, 3, 4, 7])]"
      ]
     },
     "execution_count": 55,
     "metadata": {},
     "output_type": "execute_result"
    }
   ],
   "source": [
    "w = np.split(z,(4,5))\n",
    "w"
   ]
  },
  {
   "cell_type": "code",
   "execution_count": 56,
   "id": "09a6f717",
   "metadata": {},
   "outputs": [],
   "source": [
    "theta = np.linspace(0,np.pi,3)"
   ]
  },
  {
   "cell_type": "code",
   "execution_count": 57,
   "id": "70321a2b",
   "metadata": {},
   "outputs": [
    {
     "data": {
      "text/plain": [
       "array([0.0000000e+00, 1.0000000e+00, 1.2246468e-16])"
      ]
     },
     "execution_count": 57,
     "metadata": {},
     "output_type": "execute_result"
    }
   ],
   "source": [
    "np.sin(theta)"
   ]
  },
  {
   "cell_type": "code",
   "execution_count": 58,
   "id": "7e38757e",
   "metadata": {},
   "outputs": [
    {
     "data": {
      "text/plain": [
       "array([ 0.00000000e+00,  1.63312394e+16, -1.22464680e-16])"
      ]
     },
     "execution_count": 58,
     "metadata": {},
     "output_type": "execute_result"
    }
   ],
   "source": [
    "np.tan(theta)"
   ]
  },
  {
   "cell_type": "code",
   "execution_count": 59,
   "id": "f9b7cc18",
   "metadata": {},
   "outputs": [
    {
     "name": "stderr",
     "output_type": "stream",
     "text": [
      "C:\\Users\\ASUS\\AppData\\Local\\Temp\\ipykernel_24856\\458218287.py:1: RuntimeWarning: invalid value encountered in arcsin\n",
      "  np.arcsin(theta)\n"
     ]
    },
    {
     "data": {
      "text/plain": [
       "array([ 0., nan, nan])"
      ]
     },
     "execution_count": 59,
     "metadata": {},
     "output_type": "execute_result"
    }
   ],
   "source": [
    "np.arcsin(theta)"
   ]
  },
  {
   "cell_type": "code",
   "execution_count": 61,
   "id": "3efe5a82",
   "metadata": {},
   "outputs": [
    {
     "name": "stderr",
     "output_type": "stream",
     "text": [
      "C:\\Users\\ASUS\\AppData\\Local\\Temp\\ipykernel_24856\\4197220341.py:2: RuntimeWarning: divide by zero encountered in log\n",
      "  np.log(x)\n"
     ]
    },
    {
     "data": {
      "text/plain": [
       "array([      -inf, 0.        , 0.69314718, 1.09861229, 1.38629436,\n",
       "       1.60943791, 1.79175947, 1.94591015, 2.07944154, 2.19722458])"
      ]
     },
     "execution_count": 61,
     "metadata": {},
     "output_type": "execute_result"
    }
   ],
   "source": [
    "x=np.arange(10)\n",
    "np.log(x)"
   ]
  },
  {
   "cell_type": "code",
   "execution_count": 66,
   "id": "ec69438d",
   "metadata": {},
   "outputs": [
    {
     "data": {
      "text/plain": [
       "array([7, 0, 7, 6])"
      ]
     },
     "execution_count": 66,
     "metadata": {},
     "output_type": "execute_result"
    }
   ],
   "source": [
    "x = np.random.randint(10,size=4)\n",
    "x"
   ]
  },
  {
   "cell_type": "code",
   "execution_count": 67,
   "id": "1a40434d",
   "metadata": {},
   "outputs": [],
   "source": [
    "from scipy import special"
   ]
  },
  {
   "cell_type": "code",
   "execution_count": 69,
   "id": "578857b1",
   "metadata": {},
   "outputs": [
    {
     "data": {
      "text/plain": [
       "array([720.,  inf, 720., 120.])"
      ]
     },
     "execution_count": 69,
     "metadata": {},
     "output_type": "execute_result"
    }
   ],
   "source": [
    "special.gamma(x)\n"
   ]
  },
  {
   "cell_type": "code",
   "execution_count": 73,
   "id": "d478101d",
   "metadata": {},
   "outputs": [
    {
     "data": {
      "text/plain": [
       "array([4.18382561e-23, 1.00000000e+00, 4.18382561e-23, 2.15197367e-17])"
      ]
     },
     "execution_count": 73,
     "metadata": {},
     "output_type": "execute_result"
    }
   ],
   "source": [
    "special.erfc(x)\n"
   ]
  },
  {
   "cell_type": "code",
   "execution_count": 75,
   "id": "514274c0",
   "metadata": {},
   "outputs": [
    {
     "data": {
      "text/plain": [
       "array([nan,  0., nan, nan])"
      ]
     },
     "execution_count": 75,
     "metadata": {},
     "output_type": "execute_result"
    }
   ],
   "source": [
    "special.erfinv(x)"
   ]
  },
  {
   "cell_type": "code",
   "execution_count": 76,
   "id": "ab242a92",
   "metadata": {},
   "outputs": [
    {
     "data": {
      "text/plain": [
       "20"
      ]
     },
     "execution_count": 76,
     "metadata": {},
     "output_type": "execute_result"
    }
   ],
   "source": [
    "np.sum(x)\n"
   ]
  },
  {
   "cell_type": "code",
   "execution_count": 87,
   "id": "67e6b2fd",
   "metadata": {},
   "outputs": [
    {
     "data": {
      "text/plain": [
       "array([0. , 5. , 8.5, 7. , 0. ])"
      ]
     },
     "execution_count": 87,
     "metadata": {},
     "output_type": "execute_result"
    }
   ],
   "source": [
    "q=np.prod(x)\n",
    "w=np.mean(x)\n",
    "r=np.var(x)\n",
    "t=np.max(x)\n",
    "y=np.argmax(x)\n",
    "v=np.array([q,w,r,t,y])\n",
    "v"
   ]
  },
  {
   "cell_type": "code",
   "execution_count": 88,
   "id": "d9b07184",
   "metadata": {},
   "outputs": [
    {
     "data": {
      "text/plain": [
       "array([0, 2, 3, 4, 1, 3])"
      ]
     },
     "execution_count": 88,
     "metadata": {},
     "output_type": "execute_result"
    }
   ],
   "source": [
    "x=np.random.randint(5,size=6)\n",
    "x"
   ]
  },
  {
   "cell_type": "code",
   "execution_count": 89,
   "id": "9f0e9c65",
   "metadata": {},
   "outputs": [
    {
     "data": {
      "text/plain": [
       "array([0, 1, 2, 3, 3, 4])"
      ]
     },
     "execution_count": 89,
     "metadata": {},
     "output_type": "execute_result"
    }
   ],
   "source": [
    "np.sort(x)\n"
   ]
  },
  {
   "cell_type": "code",
   "execution_count": 90,
   "id": "6f5b58ae",
   "metadata": {},
   "outputs": [
    {
     "data": {
      "text/plain": [
       "array([0, 4, 1, 2, 5, 3], dtype=int64)"
      ]
     },
     "execution_count": 90,
     "metadata": {},
     "output_type": "execute_result"
    }
   ],
   "source": [
    "np.argsort(x)"
   ]
  },
  {
   "cell_type": "code",
   "execution_count": 96,
   "id": "7f024b1b",
   "metadata": {},
   "outputs": [
    {
     "data": {
      "text/plain": [
       "array([[56,  5, 16, 54, 44,  5],\n",
       "       [56, 28, 69, 62, 73, 29],\n",
       "       [63, 51, 80, 63, 73, 32],\n",
       "       [65, 69, 89, 81, 76, 73],\n",
       "       [65, 89, 91, 95, 86, 78]])"
      ]
     },
     "execution_count": 96,
     "metadata": {},
     "output_type": "execute_result"
    }
   ],
   "source": [
    "k=np.random.randint(5,100,(5,6))\n",
    "np.sort(k,axis=0)"
   ]
  },
  {
   "cell_type": "code",
   "execution_count": 97,
   "id": "fef212e2",
   "metadata": {},
   "outputs": [
    {
     "data": {
      "text/plain": [
       "array([[28, 44, 54, 56, 78, 80],\n",
       "       [ 5,  5, 56, 63, 76, 91],\n",
       "       [29, 62, 65, 69, 86, 89],\n",
       "       [16, 32, 51, 65, 73, 95],\n",
       "       [63, 69, 73, 73, 81, 89]])"
      ]
     },
     "execution_count": 97,
     "metadata": {},
     "output_type": "execute_result"
    }
   ],
   "source": [
    "np.sort(k,axis=1)"
   ]
  },
  {
   "cell_type": "code",
   "execution_count": null,
   "id": "62188fa6",
   "metadata": {},
   "outputs": [],
   "source": [
    "### Pandas ###"
   ]
  },
  {
   "cell_type": "code",
   "execution_count": 106,
   "id": "6dc51b2c",
   "metadata": {},
   "outputs": [
    {
     "data": {
      "text/plain": [
       "a    0\n",
       "b    2\n",
       "c    0\n",
       "d    1\n",
       "e    1\n",
       "f    4\n",
       "dtype: int32"
      ]
     },
     "execution_count": 106,
     "metadata": {},
     "output_type": "execute_result"
    }
   ],
   "source": [
    "import pandas as pd\n",
    "import numpy as np\n",
    "\n",
    "data = pd.Series(np.random.randint(5, size=6), index=['a', 'b', 'c', 'd', 'e', 'f'])\n",
    "data"
   ]
  },
  {
   "cell_type": "code",
   "execution_count": 121,
   "id": "3846cb1f",
   "metadata": {},
   "outputs": [
    {
     "data": {
      "text/html": [
       "<div>\n",
       "<style scoped>\n",
       "    .dataframe tbody tr th:only-of-type {\n",
       "        vertical-align: middle;\n",
       "    }\n",
       "\n",
       "    .dataframe tbody tr th {\n",
       "        vertical-align: top;\n",
       "    }\n",
       "\n",
       "    .dataframe thead th {\n",
       "        text-align: right;\n",
       "    }\n",
       "</style>\n",
       "<table border=\"1\" class=\"dataframe\">\n",
       "  <thead>\n",
       "    <tr style=\"text-align: right;\">\n",
       "      <th></th>\n",
       "      <th>City</th>\n",
       "      <th>Population (Millions)</th>\n",
       "      <th>area (Kilometers)</th>\n",
       "    </tr>\n",
       "  </thead>\n",
       "  <tbody>\n",
       "    <tr>\n",
       "      <th>0</th>\n",
       "      <td>Mumbai</td>\n",
       "      <td>12.48</td>\n",
       "      <td>500000</td>\n",
       "    </tr>\n",
       "    <tr>\n",
       "      <th>1</th>\n",
       "      <td>Delhi</td>\n",
       "      <td>11.02</td>\n",
       "      <td>100000</td>\n",
       "    </tr>\n",
       "    <tr>\n",
       "      <th>2</th>\n",
       "      <td>Bangalore</td>\n",
       "      <td>8.52</td>\n",
       "      <td>200000</td>\n",
       "    </tr>\n",
       "    <tr>\n",
       "      <th>3</th>\n",
       "      <td>Kolkata</td>\n",
       "      <td>4.58</td>\n",
       "      <td>300000</td>\n",
       "    </tr>\n",
       "    <tr>\n",
       "      <th>4</th>\n",
       "      <td>Chennai</td>\n",
       "      <td>4.34</td>\n",
       "      <td>450000</td>\n",
       "    </tr>\n",
       "  </tbody>\n",
       "</table>\n",
       "</div>"
      ],
      "text/plain": [
       "        City  Population (Millions)  area (Kilometers) \n",
       "0     Mumbai                  12.48              500000\n",
       "1      Delhi                  11.02              100000\n",
       "2  Bangalore                   8.52              200000\n",
       "3    Kolkata                   4.58              300000\n",
       "4    Chennai                   4.34              450000"
      ]
     },
     "execution_count": 121,
     "metadata": {},
     "output_type": "execute_result"
    }
   ],
   "source": [
    "import pandas as pd\n",
    "\n",
    "data = {\n",
    "    'City': ['Mumbai', 'Delhi', 'Bangalore', 'Kolkata', 'Chennai'],\n",
    "    'Population (Millions)': [12.48, 11.02, 8.52, 4.58, 4.34],\n",
    "    'area (Kilometers) ':[500000,100000,200000,300000,450000]\n",
    "}\n",
    "\n",
    "indian_cities_df = pd.DataFrame(data)\n",
    "indian_cities_df"
   ]
  },
  {
   "cell_type": "code",
   "execution_count": 117,
   "id": "39ec7504",
   "metadata": {},
   "outputs": [
    {
     "data": {
      "text/plain": [
       "0       Mumbai\n",
       "1        Delhi\n",
       "2    Bangalore\n",
       "3      Kolkata\n",
       "4      Chennai\n",
       "Name: City, dtype: object"
      ]
     },
     "execution_count": 117,
     "metadata": {},
     "output_type": "execute_result"
    }
   ],
   "source": [
    "indian_cities_df.City"
   ]
  },
  {
   "cell_type": "code",
   "execution_count": 114,
   "id": "70e892e3",
   "metadata": {},
   "outputs": [
    {
     "data": {
      "text/plain": [
       "Index(['City', 'Population (Millions)'], dtype='object')"
      ]
     },
     "execution_count": 114,
     "metadata": {},
     "output_type": "execute_result"
    }
   ],
   "source": [
    "indian_cities_df.columns"
   ]
  },
  {
   "cell_type": "code",
   "execution_count": 128,
   "id": "17d6c95d",
   "metadata": {},
   "outputs": [
    {
     "data": {
      "text/plain": [
       "0    500000\n",
       "1    100000\n",
       "2    200000\n",
       "3    300000\n",
       "4    450000\n",
       "Name: area (Kilometers) , dtype: int64"
      ]
     },
     "execution_count": 128,
     "metadata": {},
     "output_type": "execute_result"
    }
   ],
   "source": [
    "indian_cities_df['area (Kilometers) ']"
   ]
  },
  {
   "cell_type": "code",
   "execution_count": 131,
   "id": "edd57bd2",
   "metadata": {},
   "outputs": [
    {
     "data": {
      "text/plain": [
       "0    0.000025\n",
       "1    0.000110\n",
       "2    0.000043\n",
       "3    0.000015\n",
       "4    0.000010\n",
       "Name: density, dtype: float64"
      ]
     },
     "execution_count": 131,
     "metadata": {},
     "output_type": "execute_result"
    }
   ],
   "source": [
    "indian_cities_df['density'] = indian_cities_df['Population (Millions)']/indian_cities_df['area (Kilometers) ']\n",
    "indian_cities_df['density']"
   ]
  },
  {
   "cell_type": "code",
   "execution_count": 132,
   "id": "ef562ebb",
   "metadata": {},
   "outputs": [
    {
     "data": {
      "text/html": [
       "<div>\n",
       "<style scoped>\n",
       "    .dataframe tbody tr th:only-of-type {\n",
       "        vertical-align: middle;\n",
       "    }\n",
       "\n",
       "    .dataframe tbody tr th {\n",
       "        vertical-align: top;\n",
       "    }\n",
       "\n",
       "    .dataframe thead th {\n",
       "        text-align: right;\n",
       "    }\n",
       "</style>\n",
       "<table border=\"1\" class=\"dataframe\">\n",
       "  <thead>\n",
       "    <tr style=\"text-align: right;\">\n",
       "      <th></th>\n",
       "      <th>City</th>\n",
       "      <th>Population (Millions)</th>\n",
       "      <th>area (Kilometers)</th>\n",
       "      <th>density</th>\n",
       "    </tr>\n",
       "  </thead>\n",
       "  <tbody>\n",
       "    <tr>\n",
       "      <th>0</th>\n",
       "      <td>Mumbai</td>\n",
       "      <td>12.48</td>\n",
       "      <td>500000</td>\n",
       "      <td>0.000025</td>\n",
       "    </tr>\n",
       "    <tr>\n",
       "      <th>1</th>\n",
       "      <td>Delhi</td>\n",
       "      <td>11.02</td>\n",
       "      <td>100000</td>\n",
       "      <td>0.000110</td>\n",
       "    </tr>\n",
       "    <tr>\n",
       "      <th>2</th>\n",
       "      <td>Bangalore</td>\n",
       "      <td>8.52</td>\n",
       "      <td>200000</td>\n",
       "      <td>0.000043</td>\n",
       "    </tr>\n",
       "    <tr>\n",
       "      <th>3</th>\n",
       "      <td>Kolkata</td>\n",
       "      <td>4.58</td>\n",
       "      <td>300000</td>\n",
       "      <td>0.000015</td>\n",
       "    </tr>\n",
       "    <tr>\n",
       "      <th>4</th>\n",
       "      <td>Chennai</td>\n",
       "      <td>4.34</td>\n",
       "      <td>450000</td>\n",
       "      <td>0.000010</td>\n",
       "    </tr>\n",
       "  </tbody>\n",
       "</table>\n",
       "</div>"
      ],
      "text/plain": [
       "        City  Population (Millions)  area (Kilometers)    density\n",
       "0     Mumbai                  12.48              500000  0.000025\n",
       "1      Delhi                  11.02              100000  0.000110\n",
       "2  Bangalore                   8.52              200000  0.000043\n",
       "3    Kolkata                   4.58              300000  0.000015\n",
       "4    Chennai                   4.34              450000  0.000010"
      ]
     },
     "execution_count": 132,
     "metadata": {},
     "output_type": "execute_result"
    }
   ],
   "source": [
    "indian_cities_df"
   ]
  },
  {
   "cell_type": "code",
   "execution_count": 133,
   "id": "41f17c4f",
   "metadata": {},
   "outputs": [
    {
     "data": {
      "text/html": [
       "<div>\n",
       "<style scoped>\n",
       "    .dataframe tbody tr th:only-of-type {\n",
       "        vertical-align: middle;\n",
       "    }\n",
       "\n",
       "    .dataframe tbody tr th {\n",
       "        vertical-align: top;\n",
       "    }\n",
       "\n",
       "    .dataframe thead th {\n",
       "        text-align: right;\n",
       "    }\n",
       "</style>\n",
       "<table border=\"1\" class=\"dataframe\">\n",
       "  <thead>\n",
       "    <tr style=\"text-align: right;\">\n",
       "      <th></th>\n",
       "      <th>0</th>\n",
       "      <th>1</th>\n",
       "      <th>2</th>\n",
       "      <th>3</th>\n",
       "      <th>4</th>\n",
       "    </tr>\n",
       "  </thead>\n",
       "  <tbody>\n",
       "    <tr>\n",
       "      <th>City</th>\n",
       "      <td>Mumbai</td>\n",
       "      <td>Delhi</td>\n",
       "      <td>Bangalore</td>\n",
       "      <td>Kolkata</td>\n",
       "      <td>Chennai</td>\n",
       "    </tr>\n",
       "    <tr>\n",
       "      <th>Population (Millions)</th>\n",
       "      <td>12.48</td>\n",
       "      <td>11.02</td>\n",
       "      <td>8.52</td>\n",
       "      <td>4.58</td>\n",
       "      <td>4.34</td>\n",
       "    </tr>\n",
       "    <tr>\n",
       "      <th>area (Kilometers)</th>\n",
       "      <td>500000</td>\n",
       "      <td>100000</td>\n",
       "      <td>200000</td>\n",
       "      <td>300000</td>\n",
       "      <td>450000</td>\n",
       "    </tr>\n",
       "    <tr>\n",
       "      <th>density</th>\n",
       "      <td>0.000025</td>\n",
       "      <td>0.00011</td>\n",
       "      <td>0.000043</td>\n",
       "      <td>0.000015</td>\n",
       "      <td>0.00001</td>\n",
       "    </tr>\n",
       "  </tbody>\n",
       "</table>\n",
       "</div>"
      ],
      "text/plain": [
       "                              0        1          2         3        4\n",
       "City                     Mumbai    Delhi  Bangalore   Kolkata  Chennai\n",
       "Population (Millions)     12.48    11.02       8.52      4.58     4.34\n",
       "area (Kilometers)        500000   100000     200000    300000   450000\n",
       "density                0.000025  0.00011   0.000043  0.000015  0.00001"
      ]
     },
     "execution_count": 133,
     "metadata": {},
     "output_type": "execute_result"
    }
   ],
   "source": [
    "indian_cities_df.T"
   ]
  },
  {
   "cell_type": "code",
   "execution_count": 134,
   "id": "b3604353",
   "metadata": {},
   "outputs": [
    {
     "data": {
      "text/html": [
       "<div>\n",
       "<style scoped>\n",
       "    .dataframe tbody tr th:only-of-type {\n",
       "        vertical-align: middle;\n",
       "    }\n",
       "\n",
       "    .dataframe tbody tr th {\n",
       "        vertical-align: top;\n",
       "    }\n",
       "\n",
       "    .dataframe thead th {\n",
       "        text-align: right;\n",
       "    }\n",
       "</style>\n",
       "<table border=\"1\" class=\"dataframe\">\n",
       "  <thead>\n",
       "    <tr style=\"text-align: right;\">\n",
       "      <th></th>\n",
       "      <th>City</th>\n",
       "      <th>Population (Millions)</th>\n",
       "      <th>area (Kilometers)</th>\n",
       "      <th>density</th>\n",
       "    </tr>\n",
       "  </thead>\n",
       "  <tbody>\n",
       "    <tr>\n",
       "      <th>1</th>\n",
       "      <td>Delhi</td>\n",
       "      <td>11.02</td>\n",
       "      <td>100000</td>\n",
       "      <td>0.000110</td>\n",
       "    </tr>\n",
       "    <tr>\n",
       "      <th>2</th>\n",
       "      <td>Bangalore</td>\n",
       "      <td>8.52</td>\n",
       "      <td>200000</td>\n",
       "      <td>0.000043</td>\n",
       "    </tr>\n",
       "  </tbody>\n",
       "</table>\n",
       "</div>"
      ],
      "text/plain": [
       "        City  Population (Millions)  area (Kilometers)    density\n",
       "1      Delhi                  11.02              100000  0.000110\n",
       "2  Bangalore                   8.52              200000  0.000043"
      ]
     },
     "execution_count": 134,
     "metadata": {},
     "output_type": "execute_result"
    }
   ],
   "source": [
    "indian_cities_df.iloc[1:3]"
   ]
  },
  {
   "cell_type": "code",
   "execution_count": 135,
   "id": "ace558e4",
   "metadata": {},
   "outputs": [
    {
     "data": {
      "text/html": [
       "<div>\n",
       "<style scoped>\n",
       "    .dataframe tbody tr th:only-of-type {\n",
       "        vertical-align: middle;\n",
       "    }\n",
       "\n",
       "    .dataframe tbody tr th {\n",
       "        vertical-align: top;\n",
       "    }\n",
       "\n",
       "    .dataframe thead th {\n",
       "        text-align: right;\n",
       "    }\n",
       "</style>\n",
       "<table border=\"1\" class=\"dataframe\">\n",
       "  <thead>\n",
       "    <tr style=\"text-align: right;\">\n",
       "      <th></th>\n",
       "      <th>City</th>\n",
       "      <th>Population (Millions)</th>\n",
       "      <th>area (Kilometers)</th>\n",
       "      <th>density</th>\n",
       "    </tr>\n",
       "  </thead>\n",
       "  <tbody>\n",
       "    <tr>\n",
       "      <th>1</th>\n",
       "      <td>Delhi</td>\n",
       "      <td>11.02</td>\n",
       "      <td>100000</td>\n",
       "      <td>0.000110</td>\n",
       "    </tr>\n",
       "    <tr>\n",
       "      <th>2</th>\n",
       "      <td>Bangalore</td>\n",
       "      <td>8.52</td>\n",
       "      <td>200000</td>\n",
       "      <td>0.000043</td>\n",
       "    </tr>\n",
       "    <tr>\n",
       "      <th>3</th>\n",
       "      <td>Kolkata</td>\n",
       "      <td>4.58</td>\n",
       "      <td>300000</td>\n",
       "      <td>0.000015</td>\n",
       "    </tr>\n",
       "  </tbody>\n",
       "</table>\n",
       "</div>"
      ],
      "text/plain": [
       "        City  Population (Millions)  area (Kilometers)    density\n",
       "1      Delhi                  11.02              100000  0.000110\n",
       "2  Bangalore                   8.52              200000  0.000043\n",
       "3    Kolkata                   4.58              300000  0.000015"
      ]
     },
     "execution_count": 135,
     "metadata": {},
     "output_type": "execute_result"
    }
   ],
   "source": [
    "indian_cities_df.loc[1:3]\n"
   ]
  },
  {
   "cell_type": "code",
   "execution_count": 138,
   "id": "31a02584",
   "metadata": {},
   "outputs": [
    {
     "data": {
      "text/html": [
       "<div>\n",
       "<style scoped>\n",
       "    .dataframe tbody tr th:only-of-type {\n",
       "        vertical-align: middle;\n",
       "    }\n",
       "\n",
       "    .dataframe tbody tr th {\n",
       "        vertical-align: top;\n",
       "    }\n",
       "\n",
       "    .dataframe thead th {\n",
       "        text-align: right;\n",
       "    }\n",
       "</style>\n",
       "<table border=\"1\" class=\"dataframe\">\n",
       "  <thead>\n",
       "    <tr style=\"text-align: right;\">\n",
       "      <th></th>\n",
       "      <th>City</th>\n",
       "      <th>Population (Millions)</th>\n",
       "      <th>area (Kilometers)</th>\n",
       "      <th>density</th>\n",
       "    </tr>\n",
       "  </thead>\n",
       "  <tbody>\n",
       "    <tr>\n",
       "      <th>0</th>\n",
       "      <td>False</td>\n",
       "      <td>False</td>\n",
       "      <td>False</td>\n",
       "      <td>False</td>\n",
       "    </tr>\n",
       "    <tr>\n",
       "      <th>1</th>\n",
       "      <td>False</td>\n",
       "      <td>False</td>\n",
       "      <td>False</td>\n",
       "      <td>False</td>\n",
       "    </tr>\n",
       "    <tr>\n",
       "      <th>2</th>\n",
       "      <td>False</td>\n",
       "      <td>False</td>\n",
       "      <td>False</td>\n",
       "      <td>False</td>\n",
       "    </tr>\n",
       "    <tr>\n",
       "      <th>3</th>\n",
       "      <td>False</td>\n",
       "      <td>False</td>\n",
       "      <td>False</td>\n",
       "      <td>False</td>\n",
       "    </tr>\n",
       "    <tr>\n",
       "      <th>4</th>\n",
       "      <td>False</td>\n",
       "      <td>False</td>\n",
       "      <td>False</td>\n",
       "      <td>False</td>\n",
       "    </tr>\n",
       "  </tbody>\n",
       "</table>\n",
       "</div>"
      ],
      "text/plain": [
       "    City  Population (Millions)  area (Kilometers)   density\n",
       "0  False                  False               False    False\n",
       "1  False                  False               False    False\n",
       "2  False                  False               False    False\n",
       "3  False                  False               False    False\n",
       "4  False                  False               False    False"
      ]
     },
     "execution_count": 138,
     "metadata": {},
     "output_type": "execute_result"
    }
   ],
   "source": [
    "indian_cities_df.isnull()"
   ]
  },
  {
   "cell_type": "code",
   "execution_count": 140,
   "id": "42c463f5",
   "metadata": {},
   "outputs": [
    {
     "data": {
      "text/plain": [
       "City                     0\n",
       "Population (Millions)    0\n",
       "area (Kilometers)        0\n",
       "density                  0\n",
       "dtype: int64"
      ]
     },
     "execution_count": 140,
     "metadata": {},
     "output_type": "execute_result"
    }
   ],
   "source": [
    "indian_cities_df.isnull().sum()"
   ]
  },
  {
   "cell_type": "code",
   "execution_count": 141,
   "id": "30432c8b",
   "metadata": {},
   "outputs": [
    {
     "data": {
      "text/html": [
       "<div>\n",
       "<style scoped>\n",
       "    .dataframe tbody tr th:only-of-type {\n",
       "        vertical-align: middle;\n",
       "    }\n",
       "\n",
       "    .dataframe tbody tr th {\n",
       "        vertical-align: top;\n",
       "    }\n",
       "\n",
       "    .dataframe thead th {\n",
       "        text-align: right;\n",
       "    }\n",
       "</style>\n",
       "<table border=\"1\" class=\"dataframe\">\n",
       "  <thead>\n",
       "    <tr style=\"text-align: right;\">\n",
       "      <th></th>\n",
       "      <th>City</th>\n",
       "      <th>Population (Millions)</th>\n",
       "      <th>area (Kilometers)</th>\n",
       "      <th>density</th>\n",
       "    </tr>\n",
       "  </thead>\n",
       "  <tbody>\n",
       "    <tr>\n",
       "      <th>0</th>\n",
       "      <td>Mumbai</td>\n",
       "      <td>12.48</td>\n",
       "      <td>500000</td>\n",
       "      <td>0.000025</td>\n",
       "    </tr>\n",
       "    <tr>\n",
       "      <th>1</th>\n",
       "      <td>Delhi</td>\n",
       "      <td>11.02</td>\n",
       "      <td>100000</td>\n",
       "      <td>0.000110</td>\n",
       "    </tr>\n",
       "    <tr>\n",
       "      <th>2</th>\n",
       "      <td>Bangalore</td>\n",
       "      <td>8.52</td>\n",
       "      <td>200000</td>\n",
       "      <td>0.000043</td>\n",
       "    </tr>\n",
       "    <tr>\n",
       "      <th>3</th>\n",
       "      <td>Kolkata</td>\n",
       "      <td>4.58</td>\n",
       "      <td>300000</td>\n",
       "      <td>0.000015</td>\n",
       "    </tr>\n",
       "    <tr>\n",
       "      <th>4</th>\n",
       "      <td>Chennai</td>\n",
       "      <td>4.34</td>\n",
       "      <td>450000</td>\n",
       "      <td>0.000010</td>\n",
       "    </tr>\n",
       "  </tbody>\n",
       "</table>\n",
       "</div>"
      ],
      "text/plain": [
       "        City  Population (Millions)  area (Kilometers)    density\n",
       "0     Mumbai                  12.48              500000  0.000025\n",
       "1      Delhi                  11.02              100000  0.000110\n",
       "2  Bangalore                   8.52              200000  0.000043\n",
       "3    Kolkata                   4.58              300000  0.000015\n",
       "4    Chennai                   4.34              450000  0.000010"
      ]
     },
     "execution_count": 141,
     "metadata": {},
     "output_type": "execute_result"
    }
   ],
   "source": [
    "indian_cities_df.dropna()"
   ]
  },
  {
   "cell_type": "code",
   "execution_count": 142,
   "id": "bdd5268c",
   "metadata": {},
   "outputs": [
    {
     "data": {
      "text/html": [
       "<div>\n",
       "<style scoped>\n",
       "    .dataframe tbody tr th:only-of-type {\n",
       "        vertical-align: middle;\n",
       "    }\n",
       "\n",
       "    .dataframe tbody tr th {\n",
       "        vertical-align: top;\n",
       "    }\n",
       "\n",
       "    .dataframe thead th {\n",
       "        text-align: right;\n",
       "    }\n",
       "</style>\n",
       "<table border=\"1\" class=\"dataframe\">\n",
       "  <thead>\n",
       "    <tr style=\"text-align: right;\">\n",
       "      <th></th>\n",
       "      <th>City</th>\n",
       "      <th>Population (Millions)</th>\n",
       "      <th>area (Kilometers)</th>\n",
       "      <th>density</th>\n",
       "    </tr>\n",
       "  </thead>\n",
       "  <tbody>\n",
       "    <tr>\n",
       "      <th>0</th>\n",
       "      <td>Mumbai</td>\n",
       "      <td>12.48</td>\n",
       "      <td>500000</td>\n",
       "      <td>0.000025</td>\n",
       "    </tr>\n",
       "    <tr>\n",
       "      <th>1</th>\n",
       "      <td>Delhi</td>\n",
       "      <td>11.02</td>\n",
       "      <td>100000</td>\n",
       "      <td>0.000110</td>\n",
       "    </tr>\n",
       "    <tr>\n",
       "      <th>2</th>\n",
       "      <td>Bangalore</td>\n",
       "      <td>8.52</td>\n",
       "      <td>200000</td>\n",
       "      <td>0.000043</td>\n",
       "    </tr>\n",
       "    <tr>\n",
       "      <th>3</th>\n",
       "      <td>Kolkata</td>\n",
       "      <td>4.58</td>\n",
       "      <td>300000</td>\n",
       "      <td>0.000015</td>\n",
       "    </tr>\n",
       "    <tr>\n",
       "      <th>4</th>\n",
       "      <td>Chennai</td>\n",
       "      <td>4.34</td>\n",
       "      <td>450000</td>\n",
       "      <td>0.000010</td>\n",
       "    </tr>\n",
       "  </tbody>\n",
       "</table>\n",
       "</div>"
      ],
      "text/plain": [
       "        City  Population (Millions)  area (Kilometers)    density\n",
       "0     Mumbai                  12.48              500000  0.000025\n",
       "1      Delhi                  11.02              100000  0.000110\n",
       "2  Bangalore                   8.52              200000  0.000043\n",
       "3    Kolkata                   4.58              300000  0.000015\n",
       "4    Chennai                   4.34              450000  0.000010"
      ]
     },
     "execution_count": 142,
     "metadata": {},
     "output_type": "execute_result"
    }
   ],
   "source": [
    "indian_cities_df.fillna(method='ffill')"
   ]
  },
  {
   "cell_type": "code",
   "execution_count": 143,
   "id": "33395988",
   "metadata": {},
   "outputs": [
    {
     "data": {
      "text/html": [
       "<div>\n",
       "<style scoped>\n",
       "    .dataframe tbody tr th:only-of-type {\n",
       "        vertical-align: middle;\n",
       "    }\n",
       "\n",
       "    .dataframe tbody tr th {\n",
       "        vertical-align: top;\n",
       "    }\n",
       "\n",
       "    .dataframe thead th {\n",
       "        text-align: right;\n",
       "    }\n",
       "</style>\n",
       "<table border=\"1\" class=\"dataframe\">\n",
       "  <thead>\n",
       "    <tr style=\"text-align: right;\">\n",
       "      <th></th>\n",
       "      <th>Population (Millions)</th>\n",
       "      <th>area (Kilometers)</th>\n",
       "      <th>density</th>\n",
       "    </tr>\n",
       "  </thead>\n",
       "  <tbody>\n",
       "    <tr>\n",
       "      <th>count</th>\n",
       "      <td>5.00000</td>\n",
       "      <td>5.000000</td>\n",
       "      <td>5.000000</td>\n",
       "    </tr>\n",
       "    <tr>\n",
       "      <th>mean</th>\n",
       "      <td>8.18800</td>\n",
       "      <td>310000.000000</td>\n",
       "      <td>0.000041</td>\n",
       "    </tr>\n",
       "    <tr>\n",
       "      <th>std</th>\n",
       "      <td>3.68702</td>\n",
       "      <td>167332.005307</td>\n",
       "      <td>0.000041</td>\n",
       "    </tr>\n",
       "    <tr>\n",
       "      <th>min</th>\n",
       "      <td>4.34000</td>\n",
       "      <td>100000.000000</td>\n",
       "      <td>0.000010</td>\n",
       "    </tr>\n",
       "    <tr>\n",
       "      <th>25%</th>\n",
       "      <td>4.58000</td>\n",
       "      <td>200000.000000</td>\n",
       "      <td>0.000015</td>\n",
       "    </tr>\n",
       "    <tr>\n",
       "      <th>50%</th>\n",
       "      <td>8.52000</td>\n",
       "      <td>300000.000000</td>\n",
       "      <td>0.000025</td>\n",
       "    </tr>\n",
       "    <tr>\n",
       "      <th>75%</th>\n",
       "      <td>11.02000</td>\n",
       "      <td>450000.000000</td>\n",
       "      <td>0.000043</td>\n",
       "    </tr>\n",
       "    <tr>\n",
       "      <th>max</th>\n",
       "      <td>12.48000</td>\n",
       "      <td>500000.000000</td>\n",
       "      <td>0.000110</td>\n",
       "    </tr>\n",
       "  </tbody>\n",
       "</table>\n",
       "</div>"
      ],
      "text/plain": [
       "       Population (Millions)  area (Kilometers)    density\n",
       "count                5.00000            5.000000  5.000000\n",
       "mean                 8.18800       310000.000000  0.000041\n",
       "std                  3.68702       167332.005307  0.000041\n",
       "min                  4.34000       100000.000000  0.000010\n",
       "25%                  4.58000       200000.000000  0.000015\n",
       "50%                  8.52000       300000.000000  0.000025\n",
       "75%                 11.02000       450000.000000  0.000043\n",
       "max                 12.48000       500000.000000  0.000110"
      ]
     },
     "execution_count": 143,
     "metadata": {},
     "output_type": "execute_result"
    }
   ],
   "source": [
    "indian_cities_df.describe()"
   ]
  },
  {
   "cell_type": "code",
   "execution_count": 144,
   "id": "014af90a",
   "metadata": {},
   "outputs": [
    {
     "name": "stdout",
     "output_type": "stream",
     "text": [
      "<class 'pandas.core.frame.DataFrame'>\n",
      "RangeIndex: 5 entries, 0 to 4\n",
      "Data columns (total 4 columns):\n",
      " #   Column                 Non-Null Count  Dtype  \n",
      "---  ------                 --------------  -----  \n",
      " 0   City                   5 non-null      object \n",
      " 1   Population (Millions)  5 non-null      float64\n",
      " 2   area (Kilometers)      5 non-null      int64  \n",
      " 3   density                5 non-null      float64\n",
      "dtypes: float64(2), int64(1), object(1)\n",
      "memory usage: 288.0+ bytes\n"
     ]
    }
   ],
   "source": [
    "indian_cities_df.info()"
   ]
  },
  {
   "cell_type": "code",
   "execution_count": 145,
   "id": "2f36728b",
   "metadata": {},
   "outputs": [
    {
     "data": {
      "text/html": [
       "<div>\n",
       "<style scoped>\n",
       "    .dataframe tbody tr th:only-of-type {\n",
       "        vertical-align: middle;\n",
       "    }\n",
       "\n",
       "    .dataframe tbody tr th {\n",
       "        vertical-align: top;\n",
       "    }\n",
       "\n",
       "    .dataframe thead th {\n",
       "        text-align: right;\n",
       "    }\n",
       "</style>\n",
       "<table border=\"1\" class=\"dataframe\">\n",
       "  <thead>\n",
       "    <tr style=\"text-align: right;\">\n",
       "      <th></th>\n",
       "      <th>City</th>\n",
       "      <th>Population (Millions)</th>\n",
       "      <th>area (Kilometers)</th>\n",
       "      <th>density</th>\n",
       "    </tr>\n",
       "  </thead>\n",
       "  <tbody>\n",
       "    <tr>\n",
       "      <th>0</th>\n",
       "      <td>Mumbai</td>\n",
       "      <td>12.48</td>\n",
       "      <td>500000</td>\n",
       "      <td>0.000025</td>\n",
       "    </tr>\n",
       "    <tr>\n",
       "      <th>1</th>\n",
       "      <td>Delhi</td>\n",
       "      <td>11.02</td>\n",
       "      <td>100000</td>\n",
       "      <td>0.000110</td>\n",
       "    </tr>\n",
       "    <tr>\n",
       "      <th>2</th>\n",
       "      <td>Bangalore</td>\n",
       "      <td>8.52</td>\n",
       "      <td>200000</td>\n",
       "      <td>0.000043</td>\n",
       "    </tr>\n",
       "    <tr>\n",
       "      <th>3</th>\n",
       "      <td>Kolkata</td>\n",
       "      <td>4.58</td>\n",
       "      <td>300000</td>\n",
       "      <td>0.000015</td>\n",
       "    </tr>\n",
       "    <tr>\n",
       "      <th>4</th>\n",
       "      <td>Chennai</td>\n",
       "      <td>4.34</td>\n",
       "      <td>450000</td>\n",
       "      <td>0.000010</td>\n",
       "    </tr>\n",
       "  </tbody>\n",
       "</table>\n",
       "</div>"
      ],
      "text/plain": [
       "        City  Population (Millions)  area (Kilometers)    density\n",
       "0     Mumbai                  12.48              500000  0.000025\n",
       "1      Delhi                  11.02              100000  0.000110\n",
       "2  Bangalore                   8.52              200000  0.000043\n",
       "3    Kolkata                   4.58              300000  0.000015\n",
       "4    Chennai                   4.34              450000  0.000010"
      ]
     },
     "execution_count": 145,
     "metadata": {},
     "output_type": "execute_result"
    }
   ],
   "source": [
    "indian_cities_df.head()"
   ]
  },
  {
   "cell_type": "code",
   "execution_count": 146,
   "id": "da3bf038",
   "metadata": {},
   "outputs": [
    {
     "data": {
      "text/html": [
       "<div>\n",
       "<style scoped>\n",
       "    .dataframe tbody tr th:only-of-type {\n",
       "        vertical-align: middle;\n",
       "    }\n",
       "\n",
       "    .dataframe tbody tr th {\n",
       "        vertical-align: top;\n",
       "    }\n",
       "\n",
       "    .dataframe thead th {\n",
       "        text-align: right;\n",
       "    }\n",
       "</style>\n",
       "<table border=\"1\" class=\"dataframe\">\n",
       "  <thead>\n",
       "    <tr style=\"text-align: right;\">\n",
       "      <th></th>\n",
       "      <th>City</th>\n",
       "      <th>Population (Millions)</th>\n",
       "      <th>area (Kilometers)</th>\n",
       "      <th>density</th>\n",
       "    </tr>\n",
       "  </thead>\n",
       "  <tbody>\n",
       "    <tr>\n",
       "      <th>0</th>\n",
       "      <td>Mumbai</td>\n",
       "      <td>12.48</td>\n",
       "      <td>500000</td>\n",
       "      <td>0.000025</td>\n",
       "    </tr>\n",
       "    <tr>\n",
       "      <th>1</th>\n",
       "      <td>Delhi</td>\n",
       "      <td>11.02</td>\n",
       "      <td>100000</td>\n",
       "      <td>0.000110</td>\n",
       "    </tr>\n",
       "    <tr>\n",
       "      <th>2</th>\n",
       "      <td>Bangalore</td>\n",
       "      <td>8.52</td>\n",
       "      <td>200000</td>\n",
       "      <td>0.000043</td>\n",
       "    </tr>\n",
       "    <tr>\n",
       "      <th>3</th>\n",
       "      <td>Kolkata</td>\n",
       "      <td>4.58</td>\n",
       "      <td>300000</td>\n",
       "      <td>0.000015</td>\n",
       "    </tr>\n",
       "    <tr>\n",
       "      <th>4</th>\n",
       "      <td>Chennai</td>\n",
       "      <td>4.34</td>\n",
       "      <td>450000</td>\n",
       "      <td>0.000010</td>\n",
       "    </tr>\n",
       "  </tbody>\n",
       "</table>\n",
       "</div>"
      ],
      "text/plain": [
       "        City  Population (Millions)  area (Kilometers)    density\n",
       "0     Mumbai                  12.48              500000  0.000025\n",
       "1      Delhi                  11.02              100000  0.000110\n",
       "2  Bangalore                   8.52              200000  0.000043\n",
       "3    Kolkata                   4.58              300000  0.000015\n",
       "4    Chennai                   4.34              450000  0.000010"
      ]
     },
     "execution_count": 146,
     "metadata": {},
     "output_type": "execute_result"
    }
   ],
   "source": [
    "indian_cities_df.tail()"
   ]
  },
  {
   "cell_type": "code",
   "execution_count": 147,
   "id": "4db2396f",
   "metadata": {},
   "outputs": [
    {
     "data": {
      "text/plain": [
       "(5, 4)"
      ]
     },
     "execution_count": 147,
     "metadata": {},
     "output_type": "execute_result"
    }
   ],
   "source": [
    "indian_cities_df.shape"
   ]
  },
  {
   "cell_type": "code",
   "execution_count": 148,
   "id": "a248daac",
   "metadata": {},
   "outputs": [
    {
     "data": {
      "text/plain": [
       "City                      object\n",
       "Population (Millions)    float64\n",
       "area (Kilometers)          int64\n",
       "density                  float64\n",
       "dtype: object"
      ]
     },
     "execution_count": 148,
     "metadata": {},
     "output_type": "execute_result"
    }
   ],
   "source": [
    "indian_cities_df.dtypes"
   ]
  },
  {
   "cell_type": "code",
   "execution_count": 150,
   "id": "994184b0",
   "metadata": {},
   "outputs": [
    {
     "data": {
      "text/plain": [
       "<generator object DataFrame.items at 0x000002827FD99E70>"
      ]
     },
     "execution_count": 150,
     "metadata": {},
     "output_type": "execute_result"
    }
   ],
   "source": [
    "indian_cities_df.items()"
   ]
  },
  {
   "cell_type": "code",
   "execution_count": 151,
   "id": "50652bb9",
   "metadata": {},
   "outputs": [
    {
     "data": {
      "text/plain": [
       "Index(['City', 'Population (Millions)', 'area (Kilometers) ', 'density'], dtype='object')"
      ]
     },
     "execution_count": 151,
     "metadata": {},
     "output_type": "execute_result"
    }
   ],
   "source": [
    "indian_cities_df.keys()"
   ]
  },
  {
   "cell_type": "code",
   "execution_count": 152,
   "id": "2daac40d",
   "metadata": {},
   "outputs": [
    {
     "data": {
      "text/html": [
       "<div>\n",
       "<style scoped>\n",
       "    .dataframe tbody tr th:only-of-type {\n",
       "        vertical-align: middle;\n",
       "    }\n",
       "\n",
       "    .dataframe tbody tr th {\n",
       "        vertical-align: top;\n",
       "    }\n",
       "\n",
       "    .dataframe thead th {\n",
       "        text-align: right;\n",
       "    }\n",
       "</style>\n",
       "<table border=\"1\" class=\"dataframe\">\n",
       "  <thead>\n",
       "    <tr style=\"text-align: right;\">\n",
       "      <th></th>\n",
       "      <th>City</th>\n",
       "      <th>Population (Millions)</th>\n",
       "      <th>area (Kilometers)</th>\n",
       "      <th>density</th>\n",
       "    </tr>\n",
       "  </thead>\n",
       "  <tbody>\n",
       "    <tr>\n",
       "      <th>0</th>\n",
       "      <td>True</td>\n",
       "      <td>True</td>\n",
       "      <td>True</td>\n",
       "      <td>True</td>\n",
       "    </tr>\n",
       "    <tr>\n",
       "      <th>1</th>\n",
       "      <td>True</td>\n",
       "      <td>True</td>\n",
       "      <td>True</td>\n",
       "      <td>True</td>\n",
       "    </tr>\n",
       "    <tr>\n",
       "      <th>2</th>\n",
       "      <td>True</td>\n",
       "      <td>True</td>\n",
       "      <td>True</td>\n",
       "      <td>True</td>\n",
       "    </tr>\n",
       "    <tr>\n",
       "      <th>3</th>\n",
       "      <td>True</td>\n",
       "      <td>True</td>\n",
       "      <td>True</td>\n",
       "      <td>True</td>\n",
       "    </tr>\n",
       "    <tr>\n",
       "      <th>4</th>\n",
       "      <td>True</td>\n",
       "      <td>True</td>\n",
       "      <td>True</td>\n",
       "      <td>True</td>\n",
       "    </tr>\n",
       "  </tbody>\n",
       "</table>\n",
       "</div>"
      ],
      "text/plain": [
       "   City  Population (Millions)  area (Kilometers)   density\n",
       "0  True                   True                True     True\n",
       "1  True                   True                True     True\n",
       "2  True                   True                True     True\n",
       "3  True                   True                True     True\n",
       "4  True                   True                True     True"
      ]
     },
     "execution_count": 152,
     "metadata": {},
     "output_type": "execute_result"
    }
   ],
   "source": [
    "indian_cities_df.notnull()"
   ]
  }
 ],
 "metadata": {
  "kernelspec": {
   "display_name": "Python 3 (ipykernel)",
   "language": "python",
   "name": "python3"
  },
  "language_info": {
   "codemirror_mode": {
    "name": "ipython",
    "version": 3
   },
   "file_extension": ".py",
   "mimetype": "text/x-python",
   "name": "python",
   "nbconvert_exporter": "python",
   "pygments_lexer": "ipython3",
   "version": "3.10.9"
  }
 },
 "nbformat": 4,
 "nbformat_minor": 5
}
